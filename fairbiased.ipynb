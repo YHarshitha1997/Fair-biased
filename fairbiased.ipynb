{
 "cells": [
  {
   "cell_type": "code",
   "execution_count": 1,
   "id": "b9a17215",
   "metadata": {},
   "outputs": [],
   "source": [
    "import pandas as pd\n",
    "import matplotlib.pyplot as plt"
   ]
  },
  {
   "cell_type": "markdown",
   "id": "eee4249b",
   "metadata": {},
   "source": [
    "## Fair die"
   ]
  },
  {
   "cell_type": "code",
   "execution_count": 2,
   "id": "8a9122a3",
   "metadata": {},
   "outputs": [
    {
     "name": "stdout",
     "output_type": "stream",
     "text": [
      "Number of  1 's:  163\n",
      "Number of  2 's:  142\n",
      "Number of  3 's:  180\n",
      "Number of  4 's:  175\n",
      "Number of  5 's:  171\n",
      "Number of  6 's:  169\n"
     ]
    }
   ],
   "source": [
    "import random\n",
    "data=[0, 0, 0, 0, 0, 0] \n",
    "n=1000 \n",
    "for i in range(n):\n",
    "    result=random.randint(1, 6)\n",
    "    data[result - 1]=data[result - 1]+1\n",
    "for i in range(0, 6):\n",
    "    print(\"Number of \", i+1, \"'s: \",data[i])"
   ]
  },
  {
   "cell_type": "code",
   "execution_count": 3,
   "id": "18ddb769",
   "metadata": {},
   "outputs": [
    {
     "ename": "NameError",
     "evalue": "name 'a' is not defined",
     "output_type": "error",
     "traceback": [
      "\u001b[0;31m---------------------------------------------------------------------------\u001b[0m",
      "\u001b[0;31mNameError\u001b[0m                                 Traceback (most recent call last)",
      "\u001b[0;32m<ipython-input-3-1e25dc857302>\u001b[0m in \u001b[0;36m<module>\u001b[0;34m\u001b[0m\n\u001b[1;32m      1\u001b[0m \u001b[0;31m# Bar graph\u001b[0m\u001b[0;34m\u001b[0m\u001b[0;34m\u001b[0m\u001b[0;34m\u001b[0m\u001b[0m\n\u001b[1;32m      2\u001b[0m \u001b[0mfig\u001b[0m \u001b[0;34m=\u001b[0m \u001b[0mplt\u001b[0m\u001b[0;34m.\u001b[0m\u001b[0mfigure\u001b[0m\u001b[0;34m(\u001b[0m\u001b[0;34m)\u001b[0m\u001b[0;34m\u001b[0m\u001b[0;34m\u001b[0m\u001b[0m\n\u001b[0;32m----> 3\u001b[0;31m \u001b[0mplt\u001b[0m\u001b[0;34m.\u001b[0m\u001b[0mbar\u001b[0m\u001b[0;34m(\u001b[0m\u001b[0ma\u001b[0m\u001b[0;34m,\u001b[0m\u001b[0mb\u001b[0m\u001b[0;34m)\u001b[0m\u001b[0;34m\u001b[0m\u001b[0;34m\u001b[0m\u001b[0m\n\u001b[0m\u001b[1;32m      4\u001b[0m \u001b[0mplt\u001b[0m\u001b[0;34m.\u001b[0m\u001b[0mxlabel\u001b[0m\u001b[0;34m(\u001b[0m\u001b[0;34m\"Dice\"\u001b[0m\u001b[0;34m,\u001b[0m\u001b[0mfontsize\u001b[0m\u001b[0;34m=\u001b[0m\u001b[0;36m12\u001b[0m\u001b[0;34m)\u001b[0m\u001b[0;34m\u001b[0m\u001b[0;34m\u001b[0m\u001b[0m\n\u001b[1;32m      5\u001b[0m \u001b[0mplt\u001b[0m\u001b[0;34m.\u001b[0m\u001b[0mylabel\u001b[0m\u001b[0;34m(\u001b[0m\u001b[0;34m\"Probability\"\u001b[0m\u001b[0;34m,\u001b[0m\u001b[0mfontsize\u001b[0m\u001b[0;34m=\u001b[0m\u001b[0;36m12\u001b[0m\u001b[0;34m)\u001b[0m\u001b[0;34m\u001b[0m\u001b[0;34m\u001b[0m\u001b[0m\n",
      "\u001b[0;31mNameError\u001b[0m: name 'a' is not defined"
     ]
    },
    {
     "data": {
      "text/plain": [
       "<Figure size 432x288 with 0 Axes>"
      ]
     },
     "metadata": {},
     "output_type": "display_data"
    }
   ],
   "source": [
    "# Bar graph\n",
    "fig = plt.figure()\n",
    "plt.bar(a,b)\n",
    "plt.xlabel(\"Dice\",fontsize=12)\n",
    "plt.ylabel(\"Probability\",fontsize=12)\n",
    "plt.title(\"Fair die\",fontsize=20)\n",
    "plt.show()"
   ]
  },
  {
   "cell_type": "markdown",
   "id": "0b348d3b",
   "metadata": {},
   "source": [
    "## Biased die"
   ]
  },
  {
   "cell_type": "code",
   "execution_count": null,
   "id": "ef1a8f52",
   "metadata": {},
   "outputs": [],
   "source": [
    "data = [0, 0, 0, 0, 0, 0]\n",
    "probabilities = (0.15, 0.15, 0.15, 0.15, 0.15, 0.25)\n",
    "def roll(probabilities):\n",
    "    randRoll = random.random() \n",
    "    sum = 0\n",
    "    result = 1\n",
    "    for mass in probabilities:\n",
    "        sum += mass\n",
    "        if randRoll < sum:\n",
    "            return result\n",
    "        result+=1\n",
    "\n",
    "for i in range(n):\n",
    "    result = roll(probabilities)\n",
    "    data[result - 1] = data[result - 1] + 1"
   ]
  },
  {
   "cell_type": "code",
   "execution_count": null,
   "id": "97bd1a49",
   "metadata": {},
   "outputs": [],
   "source": [
    "#Bar graph\n",
    "x=[1, 2, 3, 4, 5, 6]\n",
    "y=data\n",
    "\n",
    "fig = plt.figure()\n",
    "plt.bar(x,y)\n",
    "plt.xlabel(\"Dice\",fontsize=12)\n",
    "plt.ylabel(\"Probability\",fontsize=12)\n",
    "plt.title(\"Biased die\",fontsize=20)\n",
    "plt.show()"
   ]
  },
  {
   "cell_type": "markdown",
   "id": "5dc3dc88",
   "metadata": {},
   "source": [
    "## Comparision between fair and biased dice using plot"
   ]
  },
  {
   "cell_type": "code",
   "execution_count": null,
   "id": "79bf937f",
   "metadata": {},
   "outputs": [],
   "source": [
    "#plot 1(Fair die):\n",
    "plt.figure(figsize=(10,5))\n",
    "plt.subplot(1, 2, 1)\n",
    "plt.plot(a,b,\"o-\")\n",
    "plt.xlabel(\"Dice\",fontsize=12)\n",
    "plt.ylabel(\"Probability\",fontsize=12)\n",
    "plt.title(\"Fair die\",fontsize=20)\n",
    "\n",
    "#plot 2(Biased die):\n",
    "plt.subplot(1, 2, 2)\n",
    "plt.plot(x,y,\"o-\")\n",
    "plt.xlabel(\"Dice\",fontsize=12)\n",
    "plt.ylabel(\"Probability\",fontsize=12)\n",
    "plt.title(\"Biased die\",fontsize=20)\n",
    "\n",
    "plt.show()"
   ]
  },
  {
   "cell_type": "markdown",
   "id": "19388183",
   "metadata": {},
   "source": [
    "#### Citation  \n",
    "https://www.pd4cs.org/rolling-a-die/ "
   ]
  }
 ],
 "metadata": {
  "kernelspec": {
   "display_name": "Python 3",
   "language": "python",
   "name": "python3"
  },
  "language_info": {
   "codemirror_mode": {
    "name": "ipython",
    "version": 3
   },
   "file_extension": ".py",
   "mimetype": "text/x-python",
   "name": "python",
   "nbconvert_exporter": "python",
   "pygments_lexer": "ipython3",
   "version": "3.8.8"
  }
 },
 "nbformat": 4,
 "nbformat_minor": 5
}
